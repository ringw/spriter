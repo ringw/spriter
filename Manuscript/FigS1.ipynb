{
 "cells": [
  {
   "cell_type": "code",
   "execution_count": 13,
   "id": "96c230e2",
   "metadata": {
    "vscode": {
     "languageId": "r"
    }
   },
   "outputs": [
    {
     "name": "stderr",
     "output_type": "stream",
     "text": [
      "\n",
      "Attaching package: 'dplyr'\n",
      "\n",
      "\n",
      "The following objects are masked from 'package:stats':\n",
      "\n",
      "    filter, lag\n",
      "\n",
      "\n",
      "The following objects are masked from 'package:base':\n",
      "\n",
      "    intersect, setdiff, setequal, union\n",
      "\n",
      "\n",
      "Loading required package: SeuratObject\n",
      "\n",
      "Loading required package: sp\n",
      "\n",
      "\n",
      "Attaching package: 'SeuratObject'\n",
      "\n",
      "\n",
      "The following objects are masked from 'package:base':\n",
      "\n",
      "    intersect, t\n",
      "\n",
      "\n"
     ]
    }
   ],
   "source": [
    "library(dplyr)\n",
    "library(processx)\n",
    "library(Seurat)"
   ]
  },
  {
   "cell_type": "code",
   "execution_count": 3,
   "id": "3d0faf59",
   "metadata": {
    "vscode": {
     "languageId": "r"
    }
   },
   "outputs": [
    {
     "data": {
      "text/html": [
       "<dl>\n",
       "\t<dt>$status</dt>\n",
       "\t\t<dd>0</dd>\n",
       "\t<dt>$stdout</dt>\n",
       "\t\t<dd>''</dd>\n",
       "\t<dt>$stderr</dt>\n",
       "\t\t<dd><span style=white-space:pre-wrap>'  % Total    % Received % Xferd  Average Speed   Time    Time     Time  Current\\n                                 Dload  Upload   Total   Spent    Left  Speed\\n\\r  0     0    0     0    0     0      0      0 --:--:-- --:--:-- --:--:--     0\\r  0     0    0     0    0     0      0      0 --:--:-- --:--:-- --:--:--     0\\r  0     0    0     0    0     0      0      0 --:--:-- --:--:-- --:--:--     0\\n\\r  0  413M    0  256k    0     0   195k      0  0:36:07  0:00:01  0:36:06  195k\\r  0  413M    0 1361k    0     0   587k      0  0:12:00  0:00:02  0:11:58 1100k\\r  0  413M    0 3044k    0     0   918k      0  0:07:40  0:00:03  0:07:37 1393k\\r  1  413M    1 5679k    0     0  1319k      0  0:05:20  0:00:04  0:05:16 1810k\\r  2  413M    2 9708k    0     0  1837k      0  0:03:50  0:00:05  0:03:45 2379k\\r  3  413M    3 15.6M    0     0  2553k      0  0:02:45  0:00:06  0:02:39 3175k\\r  5  413M    5 24.4M    0     0  3436k      0  0:02:03  0:00:07  0:01:56 4760k\\r  9  413M    9 38.2M    0     0  4730k      0  0:01:29  0:00:08  0:01:21 7269k\\r 13  413M   13 54.4M    0     0  6002k      0  0:01:10  0:00:09  0:01:01  9.8M\\r 17  413M   17 71.0M    0     0  7075k      0  0:00:59  0:00:10  0:00:49 12.3M\\r 21  413M   21 87.8M    0     0  7967k      0  0:00:53  0:00:11  0:00:42 14.4M\\r 25  413M   25  104M    0     0  8676k      0  0:00:48  0:00:12  0:00:36 15.9M\\r 29  413M   29  120M    0     0  9307k      0  0:00:45  0:00:13  0:00:32 16.4M\\r 33  413M   33  136M    0     0  9808k      0  0:00:43  0:00:14  0:00:29 16.4M\\r 37  413M   37  153M    0     0  10.0M      0  0:00:41  0:00:15  0:00:26 16.5M\\r 41  413M   41  170M    0     0  10.4M      0  0:00:39  0:00:16  0:00:23 16.6M\\r 45  413M   45  187M    0     0  10.8M      0  0:00:38  0:00:17  0:00:21 16.6M\\r 49  413M   49  203M    0     0  11.1M      0  0:00:37  0:00:18  0:00:19 16.5M\\r 53  413M   53  220M    0     0  11.4M      0  0:00:36  0:00:19  0:00:17 16.7M\\r 57  413M   57  236M    0     0  11.6M      0  0:00:35  0:00:20  0:00:15 16.5M\\r 60  413M   60  250M    0     0  11.7M      0  0:00:35  0:00:21  0:00:14 16.0M\\r 63  413M   63  264M    0     0  11.8M      0  0:00:34  0:00:22  0:00:12 15.3M\\r 67  413M   67  278M    0     0  11.9M      0  0:00:34  0:00:23  0:00:11 14.9M\\r 71  413M   71  293M    0     0  12.0M      0  0:00:34  0:00:24  0:00:10 14.6M\\r 74  413M   74  309M    0     0  12.2M      0  0:00:33  0:00:25  0:00:08 14.4M\\r 78  413M   78  325M    0     0  12.3M      0  0:00:33  0:00:26  0:00:07 14.9M\\r 82  413M   82  342M    0     0  12.5M      0  0:00:32  0:00:27  0:00:05 15.6M\\r 86  413M   86  358M    0     0  12.6M      0  0:00:32  0:00:28  0:00:04 16.0M\\r 90  413M   90  375M    0     0  12.8M      0  0:00:32  0:00:29  0:00:03 16.4M\\r 94  413M   94  392M    0     0  12.9M      0  0:00:31  0:00:30  0:00:01 16.6M\\r 99  413M   99  409M    0     0  13.0M      0  0:00:31  0:00:31 --:--:-- 16.7M\\r100  413M  100  413M    0     0  13.1M      0  0:00:31  0:00:31 --:--:-- 16.7M\\n'</span></dd>\n",
       "\t<dt>$timeout</dt>\n",
       "\t\t<dd>FALSE</dd>\n",
       "</dl>\n"
      ],
      "text/latex": [
       "\\begin{description}\n",
       "\\item[\\$status] 0\n",
       "\\item[\\$stdout] ''\n",
       "\\item[\\$stderr] '  \\% Total    \\% Received \\% Xferd  Average Speed   Time    Time     Time  Current\\textbackslash{}n                                 Dload  Upload   Total   Spent    Left  Speed\\textbackslash{}n\\textbackslash{}r  0     0    0     0    0     0      0      0 --:--:-- --:--:-- --:--:--     0\\textbackslash{}r  0     0    0     0    0     0      0      0 --:--:-- --:--:-- --:--:--     0\\textbackslash{}r  0     0    0     0    0     0      0      0 --:--:-- --:--:-- --:--:--     0\\textbackslash{}n\\textbackslash{}r  0  413M    0  256k    0     0   195k      0  0:36:07  0:00:01  0:36:06  195k\\textbackslash{}r  0  413M    0 1361k    0     0   587k      0  0:12:00  0:00:02  0:11:58 1100k\\textbackslash{}r  0  413M    0 3044k    0     0   918k      0  0:07:40  0:00:03  0:07:37 1393k\\textbackslash{}r  1  413M    1 5679k    0     0  1319k      0  0:05:20  0:00:04  0:05:16 1810k\\textbackslash{}r  2  413M    2 9708k    0     0  1837k      0  0:03:50  0:00:05  0:03:45 2379k\\textbackslash{}r  3  413M    3 15.6M    0     0  2553k      0  0:02:45  0:00:06  0:02:39 3175k\\textbackslash{}r  5  413M    5 24.4M    0     0  3436k      0  0:02:03  0:00:07  0:01:56 4760k\\textbackslash{}r  9  413M    9 38.2M    0     0  4730k      0  0:01:29  0:00:08  0:01:21 7269k\\textbackslash{}r 13  413M   13 54.4M    0     0  6002k      0  0:01:10  0:00:09  0:01:01  9.8M\\textbackslash{}r 17  413M   17 71.0M    0     0  7075k      0  0:00:59  0:00:10  0:00:49 12.3M\\textbackslash{}r 21  413M   21 87.8M    0     0  7967k      0  0:00:53  0:00:11  0:00:42 14.4M\\textbackslash{}r 25  413M   25  104M    0     0  8676k      0  0:00:48  0:00:12  0:00:36 15.9M\\textbackslash{}r 29  413M   29  120M    0     0  9307k      0  0:00:45  0:00:13  0:00:32 16.4M\\textbackslash{}r 33  413M   33  136M    0     0  9808k      0  0:00:43  0:00:14  0:00:29 16.4M\\textbackslash{}r 37  413M   37  153M    0     0  10.0M      0  0:00:41  0:00:15  0:00:26 16.5M\\textbackslash{}r 41  413M   41  170M    0     0  10.4M      0  0:00:39  0:00:16  0:00:23 16.6M\\textbackslash{}r 45  413M   45  187M    0     0  10.8M      0  0:00:38  0:00:17  0:00:21 16.6M\\textbackslash{}r 49  413M   49  203M    0     0  11.1M      0  0:00:37  0:00:18  0:00:19 16.5M\\textbackslash{}r 53  413M   53  220M    0     0  11.4M      0  0:00:36  0:00:19  0:00:17 16.7M\\textbackslash{}r 57  413M   57  236M    0     0  11.6M      0  0:00:35  0:00:20  0:00:15 16.5M\\textbackslash{}r 60  413M   60  250M    0     0  11.7M      0  0:00:35  0:00:21  0:00:14 16.0M\\textbackslash{}r 63  413M   63  264M    0     0  11.8M      0  0:00:34  0:00:22  0:00:12 15.3M\\textbackslash{}r 67  413M   67  278M    0     0  11.9M      0  0:00:34  0:00:23  0:00:11 14.9M\\textbackslash{}r 71  413M   71  293M    0     0  12.0M      0  0:00:34  0:00:24  0:00:10 14.6M\\textbackslash{}r 74  413M   74  309M    0     0  12.2M      0  0:00:33  0:00:25  0:00:08 14.4M\\textbackslash{}r 78  413M   78  325M    0     0  12.3M      0  0:00:33  0:00:26  0:00:07 14.9M\\textbackslash{}r 82  413M   82  342M    0     0  12.5M      0  0:00:32  0:00:27  0:00:05 15.6M\\textbackslash{}r 86  413M   86  358M    0     0  12.6M      0  0:00:32  0:00:28  0:00:04 16.0M\\textbackslash{}r 90  413M   90  375M    0     0  12.8M      0  0:00:32  0:00:29  0:00:03 16.4M\\textbackslash{}r 94  413M   94  392M    0     0  12.9M      0  0:00:31  0:00:30  0:00:01 16.6M\\textbackslash{}r 99  413M   99  409M    0     0  13.0M      0  0:00:31  0:00:31 --:--:-- 16.7M\\textbackslash{}r100  413M  100  413M    0     0  13.1M      0  0:00:31  0:00:31 --:--:-- 16.7M\\textbackslash{}n'\n",
       "\\item[\\$timeout] FALSE\n",
       "\\end{description}\n"
      ],
      "text/markdown": [
       "$status\n",
       ":   0\n",
       "$stdout\n",
       ":   ''\n",
       "$stderr\n",
       ":   <span style=white-space:pre-wrap>'  % Total    % Received % Xferd  Average Speed   Time    Time     Time  Current\\n                                 Dload  Upload   Total   Spent    Left  Speed\\n\\r  0     0    0     0    0     0      0      0 --:--:-- --:--:-- --:--:--     0\\r  0     0    0     0    0     0      0      0 --:--:-- --:--:-- --:--:--     0\\r  0     0    0     0    0     0      0      0 --:--:-- --:--:-- --:--:--     0\\n\\r  0  413M    0  256k    0     0   195k      0  0:36:07  0:00:01  0:36:06  195k\\r  0  413M    0 1361k    0     0   587k      0  0:12:00  0:00:02  0:11:58 1100k\\r  0  413M    0 3044k    0     0   918k      0  0:07:40  0:00:03  0:07:37 1393k\\r  1  413M    1 5679k    0     0  1319k      0  0:05:20  0:00:04  0:05:16 1810k\\r  2  413M    2 9708k    0     0  1837k      0  0:03:50  0:00:05  0:03:45 2379k\\r  3  413M    3 15.6M    0     0  2553k      0  0:02:45  0:00:06  0:02:39 3175k\\r  5  413M    5 24.4M    0     0  3436k      0  0:02:03  0:00:07  0:01:56 4760k\\r  9  413M    9 38.2M    0     0  4730k      0  0:01:29  0:00:08  0:01:21 7269k\\r 13  413M   13 54.4M    0     0  6002k      0  0:01:10  0:00:09  0:01:01  9.8M\\r 17  413M   17 71.0M    0     0  7075k      0  0:00:59  0:00:10  0:00:49 12.3M\\r 21  413M   21 87.8M    0     0  7967k      0  0:00:53  0:00:11  0:00:42 14.4M\\r 25  413M   25  104M    0     0  8676k      0  0:00:48  0:00:12  0:00:36 15.9M\\r 29  413M   29  120M    0     0  9307k      0  0:00:45  0:00:13  0:00:32 16.4M\\r 33  413M   33  136M    0     0  9808k      0  0:00:43  0:00:14  0:00:29 16.4M\\r 37  413M   37  153M    0     0  10.0M      0  0:00:41  0:00:15  0:00:26 16.5M\\r 41  413M   41  170M    0     0  10.4M      0  0:00:39  0:00:16  0:00:23 16.6M\\r 45  413M   45  187M    0     0  10.8M      0  0:00:38  0:00:17  0:00:21 16.6M\\r 49  413M   49  203M    0     0  11.1M      0  0:00:37  0:00:18  0:00:19 16.5M\\r 53  413M   53  220M    0     0  11.4M      0  0:00:36  0:00:19  0:00:17 16.7M\\r 57  413M   57  236M    0     0  11.6M      0  0:00:35  0:00:20  0:00:15 16.5M\\r 60  413M   60  250M    0     0  11.7M      0  0:00:35  0:00:21  0:00:14 16.0M\\r 63  413M   63  264M    0     0  11.8M      0  0:00:34  0:00:22  0:00:12 15.3M\\r 67  413M   67  278M    0     0  11.9M      0  0:00:34  0:00:23  0:00:11 14.9M\\r 71  413M   71  293M    0     0  12.0M      0  0:00:34  0:00:24  0:00:10 14.6M\\r 74  413M   74  309M    0     0  12.2M      0  0:00:33  0:00:25  0:00:08 14.4M\\r 78  413M   78  325M    0     0  12.3M      0  0:00:33  0:00:26  0:00:07 14.9M\\r 82  413M   82  342M    0     0  12.5M      0  0:00:32  0:00:27  0:00:05 15.6M\\r 86  413M   86  358M    0     0  12.6M      0  0:00:32  0:00:28  0:00:04 16.0M\\r 90  413M   90  375M    0     0  12.8M      0  0:00:32  0:00:29  0:00:03 16.4M\\r 94  413M   94  392M    0     0  12.9M      0  0:00:31  0:00:30  0:00:01 16.6M\\r 99  413M   99  409M    0     0  13.0M      0  0:00:31  0:00:31 --:--:-- 16.7M\\r100  413M  100  413M    0     0  13.1M      0  0:00:31  0:00:31 --:--:-- 16.7M\\n'</span>\n",
       "$timeout\n",
       ":   FALSE\n",
       "\n",
       "\n"
      ],
      "text/plain": [
       "$status\n",
       "[1] 0\n",
       "\n",
       "$stdout\n",
       "[1] \"\"\n",
       "\n",
       "$stderr\n",
       "[1] \"  % Total    % Received % Xferd  Average Speed   Time    Time     Time  Current\\n                                 Dload  Upload   Total   Spent    Left  Speed\\n\\r  0     0    0     0    0     0      0      0 --:--:-- --:--:-- --:--:--     0\\r  0     0    0     0    0     0      0      0 --:--:-- --:--:-- --:--:--     0\\r  0     0    0     0    0     0      0      0 --:--:-- --:--:-- --:--:--     0\\n\\r  0  413M    0  256k    0     0   195k      0  0:36:07  0:00:01  0:36:06  195k\\r  0  413M    0 1361k    0     0   587k      0  0:12:00  0:00:02  0:11:58 1100k\\r  0  413M    0 3044k    0     0   918k      0  0:07:40  0:00:03  0:07:37 1393k\\r  1  413M    1 5679k    0     0  1319k      0  0:05:20  0:00:04  0:05:16 1810k\\r  2  413M    2 9708k    0     0  1837k      0  0:03:50  0:00:05  0:03:45 2379k\\r  3  413M    3 15.6M    0     0  2553k      0  0:02:45  0:00:06  0:02:39 3175k\\r  5  413M    5 24.4M    0     0  3436k      0  0:02:03  0:00:07  0:01:56 4760k\\r  9  413M    9 38.2M    0     0  4730k      0  0:01:29  0:00:08  0:01:21 7269k\\r 13  413M   13 54.4M    0     0  6002k      0  0:01:10  0:00:09  0:01:01  9.8M\\r 17  413M   17 71.0M    0     0  7075k      0  0:00:59  0:00:10  0:00:49 12.3M\\r 21  413M   21 87.8M    0     0  7967k      0  0:00:53  0:00:11  0:00:42 14.4M\\r 25  413M   25  104M    0     0  8676k      0  0:00:48  0:00:12  0:00:36 15.9M\\r 29  413M   29  120M    0     0  9307k      0  0:00:45  0:00:13  0:00:32 16.4M\\r 33  413M   33  136M    0     0  9808k      0  0:00:43  0:00:14  0:00:29 16.4M\\r 37  413M   37  153M    0     0  10.0M      0  0:00:41  0:00:15  0:00:26 16.5M\\r 41  413M   41  170M    0     0  10.4M      0  0:00:39  0:00:16  0:00:23 16.6M\\r 45  413M   45  187M    0     0  10.8M      0  0:00:38  0:00:17  0:00:21 16.6M\\r 49  413M   49  203M    0     0  11.1M      0  0:00:37  0:00:18  0:00:19 16.5M\\r 53  413M   53  220M    0     0  11.4M      0  0:00:36  0:00:19  0:00:17 16.7M\\r 57  413M   57  236M    0     0  11.6M      0  0:00:35  0:00:20  0:00:15 16.5M\\r 60  413M   60  250M    0     0  11.7M      0  0:00:35  0:00:21  0:00:14 16.0M\\r 63  413M   63  264M    0     0  11.8M      0  0:00:34  0:00:22  0:00:12 15.3M\\r 67  413M   67  278M    0     0  11.9M      0  0:00:34  0:00:23  0:00:11 14.9M\\r 71  413M   71  293M    0     0  12.0M      0  0:00:34  0:00:24  0:00:10 14.6M\\r 74  413M   74  309M    0     0  12.2M      0  0:00:33  0:00:25  0:00:08 14.4M\\r 78  413M   78  325M    0     0  12.3M      0  0:00:33  0:00:26  0:00:07 14.9M\\r 82  413M   82  342M    0     0  12.5M      0  0:00:32  0:00:27  0:00:05 15.6M\\r 86  413M   86  358M    0     0  12.6M      0  0:00:32  0:00:28  0:00:04 16.0M\\r 90  413M   90  375M    0     0  12.8M      0  0:00:32  0:00:29  0:00:03 16.4M\\r 94  413M   94  392M    0     0  12.9M      0  0:00:31  0:00:30  0:00:01 16.6M\\r 99  413M   99  409M    0     0  13.0M      0  0:00:31  0:00:31 --:--:-- 16.7M\\r100  413M  100  413M    0     0  13.1M      0  0:00:31  0:00:31 --:--:-- 16.7M\\n\"\n",
       "\n",
       "$timeout\n",
       "[1] FALSE\n"
      ]
     },
     "metadata": {},
     "output_type": "display_data"
    }
   ],
   "source": [
    "run(\"curl\", c(\"-Lo\", \"dge_rmbatch_data.tar.gz\", \"https://figshare.com/ndownloader/files/23043329\"))"
   ]
  },
  {
   "cell_type": "code",
   "execution_count": 11,
   "id": "e6cd9801",
   "metadata": {
    "vscode": {
     "languageId": "r"
    }
   },
   "outputs": [
    {
     "data": {
      "text/html": [
       "<dl>\n",
       "\t<dt>$status</dt>\n",
       "\t\t<dd>0</dd>\n",
       "\t<dt>$stdout</dt>\n",
       "\t\t<dd>''</dd>\n",
       "\t<dt>$stderr</dt>\n",
       "\t\t<dd>'x AdultAscendingColon1.rmbatchdge.txt.gz\\nx AdultCerebellum1.rmbatchdge.txt.gz\\nx AdultPancreas1.rmbatchdge.txt.gz\\n'</dd>\n",
       "\t<dt>$timeout</dt>\n",
       "\t\t<dd>FALSE</dd>\n",
       "</dl>\n"
      ],
      "text/latex": [
       "\\begin{description}\n",
       "\\item[\\$status] 0\n",
       "\\item[\\$stdout] ''\n",
       "\\item[\\$stderr] 'x AdultAscendingColon1.rmbatchdge.txt.gz\\textbackslash{}nx AdultCerebellum1.rmbatchdge.txt.gz\\textbackslash{}nx AdultPancreas1.rmbatchdge.txt.gz\\textbackslash{}n'\n",
       "\\item[\\$timeout] FALSE\n",
       "\\end{description}\n"
      ],
      "text/markdown": [
       "$status\n",
       ":   0\n",
       "$stdout\n",
       ":   ''\n",
       "$stderr\n",
       ":   'x AdultAscendingColon1.rmbatchdge.txt.gz\\nx AdultCerebellum1.rmbatchdge.txt.gz\\nx AdultPancreas1.rmbatchdge.txt.gz\\n'\n",
       "$timeout\n",
       ":   FALSE\n",
       "\n",
       "\n"
      ],
      "text/plain": [
       "$status\n",
       "[1] 0\n",
       "\n",
       "$stdout\n",
       "[1] \"\"\n",
       "\n",
       "$stderr\n",
       "[1] \"x AdultAscendingColon1.rmbatchdge.txt.gz\\nx AdultCerebellum1.rmbatchdge.txt.gz\\nx AdultPancreas1.rmbatchdge.txt.gz\\n\"\n",
       "\n",
       "$timeout\n",
       "[1] FALSE\n"
      ]
     },
     "metadata": {},
     "output_type": "display_data"
    }
   ],
   "source": [
    "dir.create(\"HumanCellLandscape\", rec=T, showW=F)\n",
    "run(\n",
    "  \"tar\",\n",
    "  c(\n",
    "    \"-C\",\n",
    "    \"HumanCellLandscape\",\n",
    "    \"--strip-components=1\",\n",
    "    \"-xzvf\",\n",
    "    \"dge_rmbatch_data.tar.gz\",\n",
    "    \"new/AdultAscendingColon1.rmbatchdge.txt.gz\",\n",
    "    \"new/AdultCerebellum1.rmbatchdge.txt.gz\",\n",
    "    \"new/AdultPancreas1.rmbatchdge.txt.gz\"\n",
    "  )\n",
    ")"
   ]
  },
  {
   "cell_type": "code",
   "execution_count": 15,
   "id": "fcad0dfe",
   "metadata": {
    "vscode": {
     "languageId": "r"
    }
   },
   "outputs": [
    {
     "name": "stderr",
     "output_type": "stream",
     "text": [
      "Warning message:\n",
      "\"Feature names cannot have underscores ('_'), replacing with dashes ('-')\"\n",
      "Warning message:\n",
      "\"Data is of class data.frame. Coercing to dgCMatrix.\"\n",
      "Finding variable features for layer counts\n",
      "\n",
      "Warning message:\n",
      "\"The default method for RunUMAP has changed from calling Python UMAP via reticulate to the R-native UWOT using the cosine metric\n",
      "To use Python UMAP via reticulate, set umap.method to 'umap-learn' and metric to 'correlation'\n",
      "This message will be shown once per session\"\n",
      "14:25:20 UMAP embedding parameters a = 0.9922 b = 1.112\n",
      "\n",
      "14:25:20 Read 2026 rows and found 10 numeric columns\n",
      "\n",
      "14:25:20 Using Annoy for neighbor search, n_neighbors = 30\n",
      "\n",
      "14:25:20 Building Annoy index with metric = cosine, n_trees = 50\n",
      "\n",
      "0%   10   20   30   40   50   60   70   80   90   100%\n",
      "\n",
      "[----|----|----|----|----|----|----|----|----|----|\n",
      "\n",
      "*\n",
      "*\n",
      "*\n",
      "*\n",
      "*\n",
      "*\n",
      "*\n",
      "*\n",
      "*\n",
      "*\n",
      "*\n",
      "*\n",
      "*\n",
      "*\n",
      "*\n",
      "*\n",
      "*\n",
      "*\n",
      "*\n",
      "*\n",
      "*\n",
      "*\n",
      "*\n",
      "*\n",
      "*\n",
      "*\n",
      "*\n",
      "*\n",
      "*\n",
      "*\n",
      "*\n",
      "*\n",
      "*\n",
      "*\n",
      "*\n",
      "*\n",
      "*\n",
      "*\n",
      "*\n",
      "*\n",
      "*\n",
      "*\n",
      "*\n",
      "*\n",
      "*\n",
      "*\n",
      "*\n",
      "*\n",
      "*\n",
      "*\n",
      "|\n",
      "\n",
      "14:25:21 Writing NN index file to temp file /var/folders/z8/vt6l0pmx18v_tqb6l8ytnrsw0000gn/T//RtmpYTCInz/file2e1743a729d3\n",
      "\n",
      "14:25:21 Searching Annoy index using 1 thread, search_k = 3000\n",
      "\n",
      "14:25:21 Annoy recall = 100%\n",
      "\n",
      "14:25:21 Commencing smooth kNN distance calibration using 1 thread\n",
      " with target n_neighbors = 30\n",
      "\n",
      "14:25:21 Initializing from normalized Laplacian + noise (using RSpectra)\n",
      "\n",
      "14:25:21 Commencing optimization for 500 epochs, with 87686 positive edges\n",
      "\n",
      "14:25:23 Optimization finished\n",
      "\n"
     ]
    },
    {
     "ename": "ERROR",
     "evalue": "Error in tcrossprod(seurat[[\"RNA\"]]@scale.data[VariableFeatures(seurat), : no slot of name \"scale.data\" for this object of class \"Assay5\"\n",
     "output_type": "error",
     "traceback": [
      "Error in tcrossprod(seurat[[\"RNA\"]]@scale.data[VariableFeatures(seurat), : no slot of name \"scale.data\" for this object of class \"Assay5\"\nTraceback:\n",
      "1. tcrossprod(seurat[[\"RNA\"]]@scale.data[VariableFeatures(seurat), \n .     ])",
      "2. .handleSimpleError(function (cnd) \n . {\n .     watcher$capture_plot_and_output()\n .     cnd <- sanitize_call(cnd)\n .     watcher$push(cnd)\n .     switch(on_error, continue = invokeRestart(\"eval_continue\"), \n .         stop = invokeRestart(\"eval_stop\"), error = invokeRestart(\"eval_error\", \n .             cnd))\n . }, \"no slot of name \\\"scale.data\\\" for this object of class \\\"Assay5\\\"\", \n .     base::quote(tcrossprod(seurat[[\"RNA\"]]@scale.data[VariableFeatures(seurat), \n .         ])))"
     ]
    }
   ],
   "source": [
    "read_scale_data <- function(name) {\n",
    "  table_filename <- paste0(\"HumanCellLandscape/Adult\", name, \"1.rmbatchdge.txt.gz\")\n",
    "  seurat <- table_filename %>%\n",
    "    read.table() %>%\n",
    "    CreateSeuratObject() %>%\n",
    "    `Idents<-`(value = name) %>%\n",
    "    NormalizeData(verb = F) %>%\n",
    "    FindVariableFeatures(nfeatures = 1500) %>%\n",
    "    ScaleData(verb = F) %>%\n",
    "    RunPCA(verb = F) %>%\n",
    "    RunUMAP(dims = 1:10)\n",
    "  seurat@misc$covar <- tcrossprod(\n",
    "    seurat[[\"RNA\"]]@scale.data[VariableFeatures(seurat), ]\n",
    "  ) /\n",
    "    ncol(seurat)\n",
    "  saveRDS(seurat, paste0(\"HumanCellLandscape/\", name, \".rds\"))\n",
    "  f <- file(paste0(\"HumanCellLandscape/cov\", name, \".csv.gz\"), \"wb\")\n",
    "  output <- gzcon(f)\n",
    "  write.csv(seurat@misc$covar, f, row.names=F)\n",
    "  close(output)\n",
    "  NULL\n",
    "}\n",
    "read_scale_data(\"AscendingColon\")\n",
    "read_scale_data(\"Cerebellum\")\n",
    "read_scale_data(\"Pancreas\")"
   ]
  },
  {
   "cell_type": "code",
   "execution_count": null,
   "id": "5accaf92",
   "metadata": {
    "vscode": {
     "languageId": "r"
    }
   },
   "outputs": [],
   "source": []
  }
 ],
 "metadata": {
  "kernelspec": {
   "display_name": "R",
   "language": "R",
   "name": "ir"
  },
  "language_info": {
   "codemirror_mode": "r",
   "file_extension": ".r",
   "mimetype": "text/x-r-source",
   "name": "R",
   "pygments_lexer": "r",
   "version": "4.3.3"
  }
 },
 "nbformat": 4,
 "nbformat_minor": 5
}
